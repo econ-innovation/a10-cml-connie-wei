{
 "cells": [
  {
   "cell_type": "code",
   "execution_count": 1,
   "id": "3ef56b0a",
   "metadata": {},
   "outputs": [
    {
     "name": "stdout",
     "output_type": "stream",
     "text": [
      "成功！\n"
     ]
    }
   ],
   "source": [
    "import os\n",
    "\n",
    "input_file = '/Users/wcl/Downloads/pubnr_cn.txt'\n",
    "\n",
    "output_dir = '/Users/wcl/Downloads/'\n",
    "\n",
    "files_per_subdir = 100\n",
    "\n",
    "if not os.path.exists(output_dir):\n",
    "    os.makedirs(output_dir)\n",
    "\n",
    "with open(input_file, 'r') as f:\n",
    "    patent_numbers = f.readlines()\n",
    "\n",
    "for i, patent_number in enumerate(patent_numbers):\n",
    "    patent_number = patent_number.strip()\n",
    "    subdir_index = i // files_per_subdir\n",
    "    subdir_path = os.path.join(output_dir, str(subdir_index))\n",
    "\n",
    "    if not os.path.exists(subdir_path):\n",
    "        os.makedirs(subdir_path)\n",
    "\n",
    "    patent_file_path = os.path.join(subdir_path, f'{patent_number}.txt')\n",
    "    \n",
    "    with open(patent_file_path, 'w'):\n",
    "        pass\n",
    "\n",
    "print(\"成功！\")"
   ]
  }
 ],
 "metadata": {
  "kernelspec": {
   "display_name": "Python 3 (ipykernel)",
   "language": "python",
   "name": "python3"
  },
  "language_info": {
   "codemirror_mode": {
    "name": "ipython",
    "version": 3
   },
   "file_extension": ".py",
   "mimetype": "text/x-python",
   "name": "python",
   "nbconvert_exporter": "python",
   "pygments_lexer": "ipython3",
   "version": "3.11.5"
  }
 },
 "nbformat": 4,
 "nbformat_minor": 5
}
